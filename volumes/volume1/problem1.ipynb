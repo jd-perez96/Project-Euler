{
 "cells": [
  {
   "cell_type": "markdown",
   "metadata": {},
   "source": [
    "# Problem 1: Multiples of $3$ or $5$\n",
    "\n",
    "If we list all the natural numbers below $10$ that are multiples of $3$ or $5$, we get $3$, $5$, $6$ and $9$. The sum of these multiples is $23$.\n",
    "\n",
    "Find the sum of all the multiples of $3$ or $5$ below $1000$."
   ]
  },
  {
   "cell_type": "markdown",
   "metadata": {},
   "source": [
    "---"
   ]
  },
  {
   "cell_type": "markdown",
   "metadata": {},
   "source": [
    "We know that the summation of the first $100$ numbers\n",
    "\n",
    "$$1 + 2 + 3 + ... + 98 + 99 + 100$$\n",
    "\n",
    "is equal to $5050$."
   ]
  },
  {
   "cell_type": "markdown",
   "metadata": {},
   "source": [
    "Also, the [summation]((https://en.wikipedia.org/wiki/Summation#Capital-sigma_notation)) of the first $100$ can be written as\n",
    "\n",
    "$$\\sum_{i=1}^{100} i$$"
   ]
  },
  {
   "cell_type": "markdown",
   "metadata": {},
   "source": [
    "This is the [summation of an arithmetic progression](https://en.wikipedia.org/wiki/Arithmetic_progression#Sum). Which can be described as\n",
    "\n",
    "$$\\frac{n * (a_1 + a_n)}{2}$$\n",
    "\n",
    "where $a_1$ is the first value of the progression, $a_n$ is the last value of the progression and $n$ is the amount of values of the progression.\n",
    "\n",
    "For the arithmetic progression of the first hundred natural numbers:\n",
    "\n",
    "- $a_1 = 1$\n",
    "- $a_n = 100$\n",
    "- $n = 100$."
   ]
  },
  {
   "cell_type": "markdown",
   "metadata": {},
   "source": [
    "The summation of all the natural numbers below $1000$ that are multiples of $3$ is also an arithmetic progression.\n",
    "\n",
    "$a_1=3$, because it is the first natural value of the summation.\n",
    "\n",
    "$a_n = 999$, because it is the last natural value divisible by $3$ below $1000$.\n",
    "\n",
    "$n = 333$, because it is the amount of values in the progression that are multiples of $3$.\n",
    "\n",
    "$a_n$ can be computed as $$a_n = (below - 1) - (below - 1) \\% 3$$\n",
    "\n",
    "$n$ can be computed as $$n = \\lfloor \\frac{a_n}{a_1} \\rfloor$$\n",
    "\n"
   ]
  },
  {
   "cell_type": "markdown",
   "metadata": {},
   "source": [
    "For the summation of all the natural numbers below $1000$ that are multiples of $5$ we have $a_1 = 5$, $a_n = 995$ and $n = 199$."
   ]
  },
  {
   "cell_type": "markdown",
   "metadata": {},
   "source": [
    "Let's define the functions!"
   ]
  },
  {
   "cell_type": "code",
   "execution_count": 1,
   "metadata": {},
   "outputs": [],
   "source": [
    "def a_n(a_1, below):\n",
    "    return (below - 1) - (below - 1) % a_1"
   ]
  },
  {
   "cell_type": "code",
   "execution_count": 2,
   "metadata": {},
   "outputs": [],
   "source": [
    "def n(a_1, a_n):\n",
    "    return a_n // a_1"
   ]
  },
  {
   "cell_type": "code",
   "execution_count": 3,
   "metadata": {},
   "outputs": [],
   "source": [
    "def summation(a, below):\n",
    "    b = a_n(a, below)\n",
    "    c = n(a, b)\n",
    "    return c * (a + b) // 2"
   ]
  },
  {
   "cell_type": "markdown",
   "metadata": {},
   "source": [
    "Let's test it with exercise statement values."
   ]
  },
  {
   "cell_type": "code",
   "execution_count": 4,
   "metadata": {},
   "outputs": [],
   "source": [
    "x = summation(3, 10)\n",
    "y = summation(5, 10)"
   ]
  },
  {
   "cell_type": "code",
   "execution_count": 5,
   "metadata": {},
   "outputs": [
    {
     "name": "stdout",
     "output_type": "stream",
     "text": [
      "Summation of all the natural numbers below 10 that are multiples of 3: 18\n",
      "Summation of all the natural numbers below 10 that are multiples of 5: 5\n",
      "Summation of all the natural numbers below 10 that are multiples of 3 or 5: 23\n"
     ]
    }
   ],
   "source": [
    "print(\"Summation of all the natural numbers below 10 that are multiples of 3:\", x)\n",
    "print(\"Summation of all the natural numbers below 10 that are multiples of 5:\", y)\n",
    "print(\"Summation of all the natural numbers below 10 that are multiples of 3 or 5:\", x + y)"
   ]
  },
  {
   "cell_type": "markdown",
   "metadata": {},
   "source": [
    "The summation of the example is the same!\n",
    "\n",
    "Now, let's try with the summation of all the natural numbers below $1000$ that are multiples of $3$ or $5$."
   ]
  },
  {
   "cell_type": "code",
   "execution_count": 6,
   "metadata": {},
   "outputs": [
    {
     "name": "stdout",
     "output_type": "stream",
     "text": [
      "Summation of all the natural numbers below 1000 that are multiples of 3 or 5: 266333\n"
     ]
    }
   ],
   "source": [
    "x = summation(3, 1000)\n",
    "y = summation(5, 1000)\n",
    "\n",
    "print(\"Summation of all the natural numbers below 1000 that are multiples of 3 or 5:\", x + y)"
   ]
  },
  {
   "cell_type": "markdown",
   "metadata": {},
   "source": [
    "\n",
    "\n",
    "<p align=\"center\">\n",
    "    However, we get wrong answer!\n",
    "    \n",
    "</p>\n",
    "\n",
    "<p align=\"center\">\n",
    "<img src=\"../../answer_wrong.png\">\n",
    "</p>\n"
   ]
  },
  {
   "cell_type": "markdown",
   "metadata": {},
   "source": [
    "Why? Because we are not taking into account duplicated values in both progressions."
   ]
  },
  {
   "cell_type": "markdown",
   "metadata": {},
   "source": [
    "$$3 + 6 + 9 + 12 + 15 + 18 + ... + 999$$"
   ]
  },
  {
   "cell_type": "markdown",
   "metadata": {},
   "source": [
    "$$5 + 10 + 15 + 20 + ... + 995$$"
   ]
  },
  {
   "cell_type": "markdown",
   "metadata": {},
   "source": [
    "$15$ is duplicated!\n",
    "\n",
    "$$15, 30, 45...$$\n",
    "\n",
    "We have to subtract the summation of all natural numbers below $1000$ that are multiples of $15$. But, why $15$?\n",
    "\n",
    "Because it is the [least common multiple](https://en.wikipedia.org/wiki/Least_common_multiple) of $3$ and $5$.\n",
    "\n",
    "We can use the default implementation of the least commmon multiple from the math package."
   ]
  },
  {
   "cell_type": "code",
   "execution_count": 7,
   "metadata": {},
   "outputs": [],
   "source": [
    "from math import lcm"
   ]
  },
  {
   "cell_type": "code",
   "execution_count": 8,
   "metadata": {},
   "outputs": [
    {
     "name": "stdout",
     "output_type": "stream",
     "text": [
      "Least common multiple of 3 and 5: 15\n"
     ]
    }
   ],
   "source": [
    "common = lcm(3, 5)\n",
    "print(\"Least common multiple of 3 and 5:\", common)"
   ]
  },
  {
   "cell_type": "code",
   "execution_count": 9,
   "metadata": {},
   "outputs": [
    {
     "name": "stdout",
     "output_type": "stream",
     "text": [
      "Summation of all the natural numbers below 1000 that are multiples of 3 or 5: 233168\n"
     ]
    }
   ],
   "source": [
    "z = summation(common, 1000)\n",
    "\n",
    "print(\"Summation of all the natural numbers below 1000 that are multiples of 3 or 5:\", x + y - z)"
   ]
  },
  {
   "cell_type": "markdown",
   "metadata": {},
   "source": [
    "Let's try again with the new solution."
   ]
  },
  {
   "cell_type": "markdown",
   "metadata": {},
   "source": [
    "\n",
    "<p align=\"center\">\n",
    "<img src=\"../../answer_correct.png\">\n",
    "</p>\n"
   ]
  },
  {
   "cell_type": "markdown",
   "metadata": {},
   "source": [
    "## References\n",
    "\n",
    "https://en.wikipedia.org/wiki/Arithmetic_progression#Sum\n",
    "\n",
    "https://en.wikipedia.org/wiki/Least_common_multiple\n",
    "\n",
    "https://en.wikipedia.org/wiki/Summation#Capital-sigma_notation"
   ]
  }
 ],
 "metadata": {
  "kernelspec": {
   "display_name": "venv_musi",
   "language": "python",
   "name": "python3"
  },
  "language_info": {
   "codemirror_mode": {
    "name": "ipython",
    "version": 3
   },
   "file_extension": ".py",
   "mimetype": "text/x-python",
   "name": "python",
   "nbconvert_exporter": "python",
   "pygments_lexer": "ipython3",
   "version": "3.11.10"
  }
 },
 "nbformat": 4,
 "nbformat_minor": 2
}
